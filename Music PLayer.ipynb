{
 "cells": [
  {
   "cell_type": "code",
   "execution_count": null,
   "metadata": {},
   "outputs": [],
   "source": [
    "from pygame import mixer\n",
    "\n",
    "mixer.init() #intializing pygame mixer\n",
    "mixer.music.load(\"\")#loading audio file\n",
    "mixer.music.play()#playing music with pygame\n",
    "# mixer.music.stop()#stoping music with pygame"
   ]
  },
  {
   "cell_type": "code",
   "execution_count": 5,
   "metadata": {},
   "outputs": [],
   "source": [
    "from tkinter import *\n",
    "from tkinter import filedialog \n",
    "from pygame import mixer\n",
    "from PIL import Image, ImageTk  # Import PIL modules\n",
    "\n",
    "class player:\n",
    "    def __init__(self,window):\n",
    "        window.geometry(\"500x220\"); window.title(\"Python Music PLayer\"); window.resizable(0,0); window.configure(bg=\"#2E2E2E\")  # Set background colo\n",
    "        load = Button(window ,text = \"Load\" , width =10 ,font=(\"Times\" ,10) ,command=self.load , bg=\"#2E2E2E\", fg=\"white\")\n",
    "        play = Button(window ,text = \"Play\" , width =10 ,font=(\"Times\" ,10) ,command=self.play, bg=\"#FFD700\", fg=\"white\")\n",
    "        pause = Button(window ,text = \"Pause\" , width =10 ,font=(\"Times\" ,10) ,command=self.pause ,bg=\"#FF6347\", fg=\"white\")\n",
    "        stop = Button(window ,text = \"Stop\" , width =10 ,font=(\"Times\" ,10) ,command=self.stop , bg=\"#4CAF50\", fg=\"white\")\n",
    "\n",
    "        load_icon = Image.open(\"music icon.png\")  # Replace \"music_icon.png\" with your icon file\n",
    "        load_icon = load_icon.resize((20, 20))\n",
    "        load_icon = ImageTk.PhotoImage(load_icon)\n",
    "\n",
    "        load.place( x=10 ,y=20); play.place(x=110, y=20); pause.place(x=220 , y=20); stop.place(x=110 ,y=60)\n",
    "        self.music_file = False\n",
    "        self.playing_state = False\n",
    "\n",
    "            # Volume control\n",
    "        volume_label = Label(window, text=\"Volume\", width =10 , font=(\"Times\", 10) )\n",
    "        volume_label.place(x=20, y=120)\n",
    "        self.volume_slider = Scale(window, from_=0, to=100, orient=HORIZONTAL, command=self.set_volume)\n",
    "        self.volume_slider.set(50)\n",
    "        self.volume_slider.place(x=80, y=100) \n",
    "\n",
    "         # Status label\n",
    "        self.status_label = Label(window, text=\"Status_Label\", font=(\"Times\", 10), bg=\"#2E2E2E\", fg=\"white\")\n",
    "        self.status_label.place(x=100, y=150) \n",
    "\n",
    "    def load(self):\n",
    "        self.music_file = filedialog.askopenfilename()\n",
    "\n",
    "    def play(self):\n",
    "        if self.music_file:\n",
    "            mixer.init()\n",
    "            mixer.music.load(self.music_file)\n",
    "            mixer.music.play()\n",
    "    def pause(self):\n",
    "        if not self.playing_state:\n",
    "            mixer.music.pause()\n",
    "            self.playing_state =True\n",
    "        else:\n",
    "            mixer.music.unpause()\n",
    "            self.playing_state = False      \n",
    "\n",
    "    def set_volume(self, val):\n",
    "        mixer.init()\n",
    "        volume = int(val)\n",
    "        mixer.music.set_volume(volume / 100)        \n",
    "\n",
    "    def stop(self):\n",
    "        mixer.music.stop()\n",
    "\n",
    "\n",
    "new_root=Tk() \n",
    "player_app =player(new_root)   \n",
    "new_root.mainloop()                \n",
    "\n",
    "        \n",
    "\n"
   ]
  },
  {
   "cell_type": "code",
   "execution_count": null,
   "metadata": {},
   "outputs": [],
   "source": []
  }
 ],
 "metadata": {
  "kernelspec": {
   "display_name": "Python 3",
   "language": "python",
   "name": "python3"
  },
  "language_info": {
   "codemirror_mode": {
    "name": "ipython",
    "version": 3
   },
   "file_extension": ".py",
   "mimetype": "text/x-python",
   "name": "python",
   "nbconvert_exporter": "python",
   "pygments_lexer": "ipython3",
   "version": "3.12.0"
  }
 },
 "nbformat": 4,
 "nbformat_minor": 2
}
